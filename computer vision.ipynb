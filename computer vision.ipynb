{
 "cells": [
  {
   "cell_type": "code",
   "execution_count": 1,
   "id": "7bed1822",
   "metadata": {},
   "outputs": [],
   "source": [
    "# pip install opencv-python"
   ]
  },
  {
   "cell_type": "code",
   "execution_count": 3,
   "id": "f731117b",
   "metadata": {},
   "outputs": [],
   "source": [
    "import cv2\n",
    "import numpy as np\n",
    "import warnings \n",
    "warnings.simplefilter('ignore')"
   ]
  },
  {
   "cell_type": "markdown",
   "id": "ccd5e14a",
   "metadata": {},
   "source": [
    "# load and read image"
   ]
  },
  {
   "cell_type": "code",
   "execution_count": 6,
   "id": "023fd6f4",
   "metadata": {},
   "outputs": [],
   "source": [
    "# load on the image using 'imread' specifying the path to image\n",
    "\n",
    "img= cv2.imread('karthikbw.jpg',1)"
   ]
  },
  {
   "cell_type": "markdown",
   "id": "c06cebb8",
   "metadata": {},
   "source": [
    "##  lets take a closer look at how images are stored"
   ]
  },
  {
   "cell_type": "code",
   "execution_count": 7,
   "id": "3ce6a04b",
   "metadata": {
    "scrolled": true
   },
   "outputs": [
    {
     "name": "stdout",
     "output_type": "stream",
     "text": [
      "[[[134 134 134]\n",
      "  [134 134 134]\n",
      "  [134 134 134]\n",
      "  ...\n",
      "  [134 134 134]\n",
      "  [134 134 134]\n",
      "  [134 134 134]]\n",
      "\n",
      " [[134 134 134]\n",
      "  [134 134 134]\n",
      "  [134 134 134]\n",
      "  ...\n",
      "  [134 134 134]\n",
      "  [134 134 134]\n",
      "  [134 134 134]]\n",
      "\n",
      " [[134 134 134]\n",
      "  [134 134 134]\n",
      "  [134 134 134]\n",
      "  ...\n",
      "  [134 134 134]\n",
      "  [134 134 134]\n",
      "  [134 134 134]]\n",
      "\n",
      " ...\n",
      "\n",
      " [[254 254 254]\n",
      "  [254 254 254]\n",
      "  [254 254 254]\n",
      "  ...\n",
      "  [186 186 186]\n",
      "  [151 151 151]\n",
      "  [124 124 124]]\n",
      "\n",
      " [[254 254 254]\n",
      "  [254 254 254]\n",
      "  [254 254 254]\n",
      "  ...\n",
      "  [183 183 183]\n",
      "  [151 151 151]\n",
      "  [127 127 127]]\n",
      "\n",
      " [[254 254 254]\n",
      "  [254 254 254]\n",
      "  [254 254 254]\n",
      "  ...\n",
      "  [180 180 180]\n",
      "  [150 150 150]\n",
      "  [129 129 129]]]\n"
     ]
    }
   ],
   "source": [
    "print(img)"
   ]
  },
  {
   "cell_type": "markdown",
   "id": "12af41b7",
   "metadata": {},
   "source": [
    "# shape give the dimension of the image array"
   ]
  },
  {
   "cell_type": "code",
   "execution_count": 8,
   "id": "69e19071",
   "metadata": {},
   "outputs": [
    {
     "data": {
      "text/plain": [
       "(750, 675, 3)"
      ]
     },
     "execution_count": 8,
     "metadata": {},
     "output_type": "execute_result"
    }
   ],
   "source": [
    "img.shape\n",
    "\n",
    "# the 3d dimensions are 1358 pixel in height * 1500 pixel wide\n",
    "# 3 means that there are 3 RGB that makeup this image"
   ]
  },
  {
   "cell_type": "markdown",
   "id": "d6445145",
   "metadata": {},
   "source": [
    "# display the image"
   ]
  },
  {
   "cell_type": "code",
   "execution_count": 9,
   "id": "34262086",
   "metadata": {},
   "outputs": [],
   "source": [
    "# to display our image variable , we use imshow\n",
    "\n",
    "cv2.imshow('pm', img)\n",
    "\n",
    "\n",
    "# waitKey allow us to input information when a image window is open\n",
    "cv2.waitKey()\n",
    "\n",
    "# cv2.waitKey(2000) (time in milisecond)\n",
    "\n",
    "# this close all open window\n",
    "# failure to place this will cause your program to hang\n",
    "cv2.destroyAllWindows()"
   ]
  },
  {
   "cell_type": "code",
   "execution_count": 17,
   "id": "cc914922",
   "metadata": {},
   "outputs": [],
   "source": [
    "img= cv2.imread('Modi.jpg')\n",
    "cv2.imshow('pm', img)\n",
    "cv2.waitKey()\n",
    "cv2.destroyAllWindows()"
   ]
  },
  {
   "cell_type": "markdown",
   "id": "bc49f86f",
   "metadata": {},
   "source": [
    "# save the image"
   ]
  },
  {
   "cell_type": "code",
   "execution_count": 18,
   "id": "932ee1c2",
   "metadata": {},
   "outputs": [
    {
     "data": {
      "text/plain": [
       "True"
      ]
     },
     "execution_count": 18,
     "metadata": {},
     "output_type": "execute_result"
    }
   ],
   "source": [
    "# \n",
    "cv2.imwrite('Modi.jpg', img)"
   ]
  },
  {
   "cell_type": "markdown",
   "id": "7f9689fa",
   "metadata": {},
   "source": [
    "# resize the image"
   ]
  },
  {
   "cell_type": "code",
   "execution_count": 20,
   "id": "f943e070",
   "metadata": {},
   "outputs": [],
   "source": [
    "img= cv2.imread('modi.jpg')\n",
    "\n",
    "resize = cv2.resize(img,(500,500))\n",
    "\n",
    "grey = cv2.cvtColor(resize, cv2.COLOR_BGR2GRAY)\n",
    "\n",
    "cv2.imshow('modi image', grey)\n",
    "\n",
    "cv2.waitKey()\n",
    "\n",
    "cv2.destroyAllWindows()"
   ]
  },
  {
   "cell_type": "code",
   "execution_count": 21,
   "id": "c2a1098c",
   "metadata": {},
   "outputs": [
    {
     "data": {
      "text/plain": [
       "679.0"
      ]
     },
     "execution_count": 21,
     "metadata": {},
     "output_type": "execute_result"
    }
   ],
   "source": [
    "img.shape[0]*0.5"
   ]
  },
  {
   "cell_type": "code",
   "execution_count": 22,
   "id": "b5fac220",
   "metadata": {},
   "outputs": [
    {
     "data": {
      "text/plain": [
       "750.0"
      ]
     },
     "execution_count": 22,
     "metadata": {},
     "output_type": "execute_result"
    }
   ],
   "source": [
    "img.shape[1]*0.5"
   ]
  },
  {
   "cell_type": "markdown",
   "id": "b23694bd",
   "metadata": {},
   "source": [
    "# face Detection Using HAAR Cascade Classifiers"
   ]
  },
  {
   "cell_type": "code",
   "execution_count": 28,
   "id": "19ee30ce",
   "metadata": {},
   "outputs": [],
   "source": [
    " # we point Open cv cascade classifier function to where our classifier \n",
    "face_classifier = cv2.CascadeClassifier('Haarcascades\\\\haarcascade_frontalface_default.xml')\n",
    "\n",
    "# load our image and convert it to grayscale\n",
    "\n",
    "img= cv2.imread('modi.jpg')\n",
    "img = cv2.resize(img,(500,500))\n",
    "grey = cv2.cvtColor(img, cv2.COLOR_BGR2GRAY)\n",
    "\n",
    "# turning cascade classifier - detectMultiScale ( input image , scaler factor , min neighbors)\n",
    "faces = face_classifier.detectMultiScale(grey, 1.05,5)"
   ]
  },
  {
   "cell_type": "code",
   "execution_count": 29,
   "id": "c65ed751",
   "metadata": {},
   "outputs": [
    {
     "name": "stdout",
     "output_type": "stream",
     "text": [
      "[[205  80 216 216]]\n"
     ]
    }
   ],
   "source": [
    "print(faces)"
   ]
  },
  {
   "cell_type": "code",
   "execution_count": 31,
   "id": "1d6f949b",
   "metadata": {},
   "outputs": [
    {
     "ename": "AttributeError",
     "evalue": "module 'cv2' has no attribute 'destroyAllWindow'",
     "output_type": "error",
     "traceback": [
      "\u001b[1;31m---------------------------------------------------------------------------\u001b[0m",
      "\u001b[1;31mAttributeError\u001b[0m                            Traceback (most recent call last)",
      "Cell \u001b[1;32mIn[31], line 24\u001b[0m\n\u001b[0;32m     22\u001b[0m cv2\u001b[38;5;241m.\u001b[39mimshow(\u001b[38;5;124m'\u001b[39m\u001b[38;5;124mface detection\u001b[39m\u001b[38;5;124m'\u001b[39m, img)\n\u001b[0;32m     23\u001b[0m cv2\u001b[38;5;241m.\u001b[39mwaitKey()\n\u001b[1;32m---> 24\u001b[0m \u001b[43mcv2\u001b[49m\u001b[38;5;241;43m.\u001b[39;49m\u001b[43mdestroyAllWindow\u001b[49m()\n",
      "\u001b[1;31mAttributeError\u001b[0m: module 'cv2' has no attribute 'destroyAllWindow'"
     ]
    }
   ],
   "source": [
    "face_classifier = cv2.CascadeClassifier('Haarcascades\\\\haarcascade_frontalface_default.xml')\n",
    "\n",
    "# load our image and convert it to grayscale\n",
    "\n",
    "img= cv2.imread('Modi.jpg')\n",
    "img = cv2.resize(img,(500,500))\n",
    "grey = cv2.cvtColor(img, cv2.COLOR_BGR2GRAY)\n",
    "\n",
    "# turning cascade classifier - detectMultiScale ( input image , scaler factor , min neighbors)\n",
    "faces = face_classifier.detectMultiScale(grey, 1.05,5)\n",
    "\n",
    "# when no faces detected , face classifier returns and empty tuple \n",
    "\n",
    "if faces is ():\n",
    "    print('no face found')\n",
    "# we iterate through our faces array and draw rectangle\n",
    "# over each face in faces\n",
    "\n",
    "for (x,y,w,h) in faces:\n",
    "    cv2.rectangle(img, (x,y), (x+w,y+h), (0,255,100),1)\n",
    "    \n",
    "cv2.imshow('face detection', img)\n",
    "cv2.waitKey()\n",
    "cv2.destroyAllWindow()\n",
    "    "
   ]
  },
  {
   "cell_type": "markdown",
   "id": "ddf700b5",
   "metadata": {},
   "source": [
    "# face & eye detection "
   ]
  },
  {
   "cell_type": "code",
   "execution_count": 14,
   "id": "4e6d64d5",
   "metadata": {},
   "outputs": [
    {
     "ename": "AttributeError",
     "evalue": "module 'cv2' has no attribute 'destroyAllWindow'",
     "output_type": "error",
     "traceback": [
      "\u001b[1;31m---------------------------------------------------------------------------\u001b[0m",
      "\u001b[1;31mAttributeError\u001b[0m                            Traceback (most recent call last)",
      "\u001b[1;32m~\\AppData\\Local\\Temp/ipykernel_6920/4288878776.py\u001b[0m in \u001b[0;36m<module>\u001b[1;34m\u001b[0m\n\u001b[0;32m     25\u001b[0m \u001b[0mcv2\u001b[0m\u001b[1;33m.\u001b[0m\u001b[0mimshow\u001b[0m\u001b[1;33m(\u001b[0m\u001b[1;34m'face '\u001b[0m\u001b[1;33m,\u001b[0m \u001b[0mimg\u001b[0m\u001b[1;33m)\u001b[0m\u001b[1;33m\u001b[0m\u001b[1;33m\u001b[0m\u001b[0m\n\u001b[0;32m     26\u001b[0m \u001b[0mcv2\u001b[0m\u001b[1;33m.\u001b[0m\u001b[0mwaitKey\u001b[0m\u001b[1;33m(\u001b[0m\u001b[1;33m)\u001b[0m\u001b[1;33m\u001b[0m\u001b[1;33m\u001b[0m\u001b[0m\n\u001b[1;32m---> 27\u001b[1;33m \u001b[0mcv2\u001b[0m\u001b[1;33m.\u001b[0m\u001b[0mdestroyAllWindow\u001b[0m\u001b[1;33m(\u001b[0m\u001b[1;33m)\u001b[0m\u001b[1;33m\u001b[0m\u001b[1;33m\u001b[0m\u001b[0m\n\u001b[0m",
      "\u001b[1;31mAttributeError\u001b[0m: module 'cv2' has no attribute 'destroyAllWindow'"
     ]
    }
   ],
   "source": [
    "face_classifier = cv2.CascadeClassifier('D:\\\\self study\\\\Naresh IT\\\\Data Science\\\\24. Computer Vision\\\\Haarcascades\\\\haarcascade_frontalface_default.xml')\n",
    "eye_classifier = cv2.CascadeClassifier('D:\\\\self study\\\\Naresh IT\\\\Data Science\\\\24. Computer Vision\\\\Haarcascades\\\\haarcascade_eye.xml')\n",
    "\n",
    "\n",
    "img= cv2.imread('D:\\\\self study\\\\Naresh IT\\\\Data Science\\\\24. Computer Vision\\\\image_examples\\\\modi.jpg')\n",
    "img = cv2.resize(img,(500,500))\n",
    "grey = cv2.cvtColor(img, cv2.COLOR_BGR2GRAY)\n",
    "faces = face_classifier.detectMultiScale(grey, 1.03,5)\n",
    "\n",
    "# when no faces detected , face classifier returns and empty tuple \n",
    "\n",
    "if faces is ():\n",
    "    print('no face found')\n",
    "\n",
    "for (x,y,w,h) in faces:\n",
    "    cv2.rectangle(img, (x,y), (x+w,y+h), (0,255,100),2)\n",
    "    roi_grey = grey[y:y+h, x:x+w]\n",
    "    roi_color = img[y:y+h, x:x+w]\n",
    "    eyes = eye_classifier.detectMultiScale(roi_grey)\n",
    "    \n",
    "    for (ex,ey,ew,eh) in eyes:\n",
    "        cv2.rectangle(roi_color, (ex,ey), (ex+ew,ey+eh),(0,255,0),2)\n",
    "\n",
    "    \n",
    "cv2.imshow('face ', img)\n",
    "cv2.waitKey()\n",
    "cv2.destroyAllWindow()\n"
   ]
  },
  {
   "cell_type": "markdown",
   "id": "0b36a63a",
   "metadata": {},
   "source": [
    " # Capture a vedio"
   ]
  },
  {
   "cell_type": "code",
   "execution_count": 1,
   "id": "13cbdd1a",
   "metadata": {
    "scrolled": true
   },
   "outputs": [
    {
     "ename": "NameError",
     "evalue": "name 'video' is not defined",
     "output_type": "error",
     "traceback": [
      "\u001b[1;31m---------------------------------------------------------------------------\u001b[0m",
      "\u001b[1;31mNameError\u001b[0m                                 Traceback (most recent call last)",
      "\u001b[1;32m~\\AppData\\Local\\Temp/ipykernel_1368/347475428.py\u001b[0m in \u001b[0;36m<module>\u001b[1;34m\u001b[0m\n\u001b[0;32m     12\u001b[0m \u001b[1;33m\u001b[0m\u001b[0m\n\u001b[0;32m     13\u001b[0m \u001b[1;33m\u001b[0m\u001b[0m\n\u001b[1;32m---> 14\u001b[1;33m \u001b[0mvideo\u001b[0m\u001b[1;33m.\u001b[0m\u001b[0mrelease\u001b[0m\u001b[1;33m(\u001b[0m\u001b[1;33m)\u001b[0m\u001b[1;33m\u001b[0m\u001b[1;33m\u001b[0m\u001b[0m\n\u001b[0m\u001b[0;32m     15\u001b[0m \u001b[0mcv2\u001b[0m\u001b[1;33m.\u001b[0m\u001b[0mdestroyAllWindows\u001b[0m\u001b[1;33m(\u001b[0m\u001b[1;33m)\u001b[0m\u001b[1;33m\u001b[0m\u001b[1;33m\u001b[0m\u001b[0m\n",
      "\u001b[1;31mNameError\u001b[0m: name 'video' is not defined"
     ]
    }
   ],
   "source": [
    "# doing some face recognigation with the webcam\n",
    "\n",
    "import cv2\n",
    "vedio =  cv2.VideoCapture(0) # 0--webcam\n",
    "\n",
    "while True:\n",
    "    check,frame = vedio.read()\n",
    "    gray = cv2.cvtColor(frame , cv2.COLOR_BGR2GRAY)\n",
    "    cv2.imshow('vedio', frame)\n",
    "    if cv2.waitKey(1)==ord('q'):\n",
    "        break\n",
    "        \n",
    "        \n",
    "video.release()\n",
    "cv2.destroyAllWindows()"
   ]
  },
  {
   "cell_type": "markdown",
   "id": "7be5a9d2",
   "metadata": {},
   "source": [
    "# face & eye detection cascade classifiers"
   ]
  },
  {
   "cell_type": "code",
   "execution_count": 1,
   "id": "0c00bfc1",
   "metadata": {},
   "outputs": [
    {
     "ename": "NameError",
     "evalue": "name 'grey' is not defined",
     "output_type": "error",
     "traceback": [
      "\u001b[1;31m---------------------------------------------------------------------------\u001b[0m",
      "\u001b[1;31mNameError\u001b[0m                                 Traceback (most recent call last)",
      "\u001b[1;32m~\\AppData\\Local\\Temp/ipykernel_16496/4086863070.py\u001b[0m in \u001b[0;36m<module>\u001b[1;34m\u001b[0m\n\u001b[0;32m     23\u001b[0m     \u001b[0mgray\u001b[0m \u001b[1;33m=\u001b[0m \u001b[0mcv2\u001b[0m\u001b[1;33m.\u001b[0m\u001b[0mcvtColor\u001b[0m\u001b[1;33m(\u001b[0m\u001b[0mframe\u001b[0m \u001b[1;33m,\u001b[0m \u001b[0mcv2\u001b[0m\u001b[1;33m.\u001b[0m\u001b[0mCOLOR_BGR2GRAY\u001b[0m\u001b[1;33m)\u001b[0m\u001b[1;33m\u001b[0m\u001b[1;33m\u001b[0m\u001b[0m\n\u001b[0;32m     24\u001b[0m     \u001b[0mcv2\u001b[0m\u001b[1;33m.\u001b[0m\u001b[0mimshow\u001b[0m\u001b[1;33m(\u001b[0m\u001b[1;34m'vedio'\u001b[0m\u001b[1;33m,\u001b[0m \u001b[0mgray\u001b[0m\u001b[1;33m)\u001b[0m\u001b[1;33m\u001b[0m\u001b[1;33m\u001b[0m\u001b[0m\n\u001b[1;32m---> 25\u001b[1;33m     \u001b[0mcanvas\u001b[0m \u001b[1;33m=\u001b[0m \u001b[0mdetect\u001b[0m\u001b[1;33m(\u001b[0m\u001b[0mgrey\u001b[0m\u001b[1;33m,\u001b[0m\u001b[0mframe\u001b[0m\u001b[1;33m)\u001b[0m\u001b[1;33m\u001b[0m\u001b[1;33m\u001b[0m\u001b[0m\n\u001b[0m\u001b[0;32m     26\u001b[0m \u001b[1;33m\u001b[0m\u001b[0m\n\u001b[0;32m     27\u001b[0m     \u001b[0mcv2\u001b[0m\u001b[1;33m.\u001b[0m\u001b[0mimshow\u001b[0m\u001b[1;33m(\u001b[0m\u001b[1;34m'vedio'\u001b[0m\u001b[1;33m,\u001b[0m \u001b[0mcanvas\u001b[0m\u001b[1;33m)\u001b[0m\u001b[1;33m\u001b[0m\u001b[1;33m\u001b[0m\u001b[0m\n",
      "\u001b[1;31mNameError\u001b[0m: name 'grey' is not defined"
     ]
    }
   ],
   "source": [
    "\n",
    "import cv2\n",
    "face_classifier = cv2.CascadeClassifier('D:\\\\self study\\\\Naresh IT\\\\Data Science\\\\24. Computer Vision\\\\Haarcascades\\\\haarcascade_frontalface_default.xml')\n",
    "eye_classifier = cv2.CascadeClassifier('D:\\\\self study\\\\Naresh IT\\\\Data Science\\\\24. Computer Vision\\\\Haarcascades\\\\haarcascade_eye.xml')\n",
    "\n",
    "def detect( grey, frame):\n",
    "    faces = face_cascade.detectMultiScale(gray,1.3,5)\n",
    "    for (x,y,w,h) in faces:\n",
    "        cv2.rectangle(frame, (x,y),(x+w,y+h), (255,0,0),2)\n",
    "        roi_grey = grey[y:y+h, x:x+w]\n",
    "        roi_color = img[y:y+h, x:x+w]\n",
    "        eyes = eye_classifier.detectMultiScale(roi_grey, 1.1,3)\n",
    "        \n",
    "        for (ex,ey,ew,eh) in eyes:\n",
    "            cv2.rectangle(roi_color, (ex,ey), (ex+ew,ey+eh),(0,255,0),2)\n",
    "    return frame\n",
    "\n",
    "# doing some face recognition with the webcam\n",
    "\n",
    "vedio = cv2.VideoCapture(0)\n",
    "\n",
    "while True:\n",
    "    check,frame = vedio.read()\n",
    "    gray = cv2.cvtColor(frame , cv2.COLOR_BGR2GRAY)\n",
    "    cv2.imshow('vedio', gray)\n",
    "    canvas = detect(grey,frame)\n",
    "    \n",
    "    cv2.imshow('vedio', canvas)\n",
    "    if cv2.waitKey(1)==ord('q'):\n",
    "        break\n",
    "        \n",
    "        \n",
    "video.release()\n",
    "cv2.destroyAllWindows()        "
   ]
  },
  {
   "cell_type": "markdown",
   "id": "d048c9da",
   "metadata": {},
   "source": [
    " # pedistrian detection"
   ]
  },
  {
   "cell_type": "code",
   "execution_count": 4,
   "id": "8a4b5f1f",
   "metadata": {},
   "outputs": [],
   "source": [
    "import cv2\n",
    "# create our body classifier\n",
    "body_classifier = cv2.CascadeClassifier('D:\\\\self study\\\\Naresh IT\\\\Data Science\\\\24. Computer Vision\\\\Haarcascades\\\\haarcascade_fullbody.xml')\n",
    "\n",
    "# initiate video capture for video file\n",
    "\n",
    "cap = cv2.VideoCapture('D:\\\\self study\\\\Naresh IT\\\\Data Science\\\\24. Computer Vision\\\\image_example\\\\walking.avi')\n",
    "\n",
    "# loop once video is successfully loaded\n",
    "\n",
    "while cap.isOpened():\n",
    "    \n",
    "    # read first frame\n",
    "    check,frame = cap.read()\n",
    "    gray = cv2.cvtColor(frame , cv2.COLOR_BGR2GRAY) \n",
    "    # pass frame to our body classifier\n",
    "    \n",
    "    bodies = body_classifier.detectMultiScale(grey,1.2,3)\n",
    "    \n",
    "    # extract bounding boxes for any bodies\n",
    "    \n",
    "    for (x,y,w,h) in bodies:\n",
    "        cv2.rectangle(frame, (x,y),(x+w,y+h), (255,0,0),2)\n",
    "        cv2.imshow('pedestrian', frame)\n",
    "    \n",
    "    \n",
    "    if cv2.waitKey(1)==ord('q'):\n",
    "        break\n",
    "        \n",
    "        \n",
    "cap.release()\n",
    "cv2.destroyAllWindows() \n",
    "    "
   ]
  },
  {
   "cell_type": "code",
   "execution_count": null,
   "id": "ee563ad5",
   "metadata": {},
   "outputs": [],
   "source": [
    "import time\n",
    "\n"
   ]
  }
 ],
 "metadata": {
  "kernelspec": {
   "display_name": "Python 3 (ipykernel)",
   "language": "python",
   "name": "python3"
  },
  "language_info": {
   "codemirror_mode": {
    "name": "ipython",
    "version": 3
   },
   "file_extension": ".py",
   "mimetype": "text/x-python",
   "name": "python",
   "nbconvert_exporter": "python",
   "pygments_lexer": "ipython3",
   "version": "3.13.1"
  }
 },
 "nbformat": 4,
 "nbformat_minor": 5
}
