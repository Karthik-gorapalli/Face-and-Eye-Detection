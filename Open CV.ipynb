{
 "cells": [
  {
   "cell_type": "markdown",
   "id": "7a883572-df4c-4885-8bfa-789c128a3d7b",
   "metadata": {},
   "source": [
    "**OpenCV installation can be done in two ways**\n",
    "- Conda install - c conda - forge opencv\n",
    "- pip install opencv - python"
   ]
  },
  {
   "cell_type": "code",
   "execution_count": 1,
   "id": "0cef2436-4e5b-4f59-bd8c-63d088a713c1",
   "metadata": {},
   "outputs": [],
   "source": [
    "#pip install opencv-python"
   ]
  },
  {
   "cell_type": "code",
   "execution_count": 1,
   "id": "331ca290-d034-4ba7-923f-2b13a767fd91",
   "metadata": {},
   "outputs": [],
   "source": [
    "import cv2\n",
    "import numpy as np\n",
    "import warnings\n",
    "warnings.simplefilter(\"ignore\")"
   ]
  },
  {
   "cell_type": "code",
   "execution_count": 37,
   "id": "b7a072fe-0432-4618-ae00-e762cfd64904",
   "metadata": {},
   "outputs": [
    {
     "name": "stdout",
     "output_type": "stream",
     "text": [
      "4.12.0\n"
     ]
    }
   ],
   "source": [
    "print(cv2.__version__)"
   ]
  },
  {
   "cell_type": "markdown",
   "id": "dfcf851a-edcd-4828-9461-450c1221ac4b",
   "metadata": {},
   "source": [
    "# Load / Read images\n",
    "**Load an image using \"imread\" specifying the path to image**"
   ]
  },
  {
   "cell_type": "code",
   "execution_count": 38,
   "id": "5db692e9-d13a-4b1c-b737-41d01060da0f",
   "metadata": {},
   "outputs": [
    {
     "data": {
      "text/plain": [
       "'C:\\\\Users\\\\gorap\\\\Data science\\\\AI\\\\Computer Vision'"
      ]
     },
     "execution_count": 38,
     "metadata": {},
     "output_type": "execute_result"
    }
   ],
   "source": [
    "pwd"
   ]
  },
  {
   "cell_type": "code",
   "execution_count": 39,
   "id": "7217d803-a726-45c6-ad99-8de9b2b301ba",
   "metadata": {},
   "outputs": [],
   "source": [
    "img = cv2.imread(\"image_examples\\\\Modi.jpg\",1)"
   ]
  },
  {
   "cell_type": "code",
   "execution_count": 40,
   "id": "b153e468-415d-4934-82d5-867ecc6fae3b",
   "metadata": {},
   "outputs": [],
   "source": [
    "cv2.imshow(\"prime minister\",img)\n",
    "cv2.waitKey() == ord(\"q\")\n",
    "cv2.destroyAllWindows()"
   ]
  },
  {
   "cell_type": "markdown",
   "id": "c6d06b67-7243-47c9-9983-027347c59a70",
   "metadata": {},
   "source": [
    "**Lets take a close look at how images are stored**"
   ]
  },
  {
   "cell_type": "code",
   "execution_count": 41,
   "id": "889b02f1-dce8-4cfc-a1e9-7bbf9451570a",
   "metadata": {},
   "outputs": [
    {
     "data": {
      "text/plain": [
       "array([[[255, 255, 255],\n",
       "        [255, 255, 255],\n",
       "        [255, 255, 255],\n",
       "        ...,\n",
       "        [255, 255, 255],\n",
       "        [255, 255, 255],\n",
       "        [255, 255, 255]],\n",
       "\n",
       "       [[255, 255, 255],\n",
       "        [255, 255, 255],\n",
       "        [255, 255, 255],\n",
       "        ...,\n",
       "        [255, 255, 255],\n",
       "        [255, 255, 255],\n",
       "        [255, 255, 255]],\n",
       "\n",
       "       [[255, 255, 255],\n",
       "        [255, 255, 255],\n",
       "        [255, 255, 255],\n",
       "        ...,\n",
       "        [255, 255, 255],\n",
       "        [255, 255, 255],\n",
       "        [255, 255, 255]],\n",
       "\n",
       "       ...,\n",
       "\n",
       "       [[255, 255, 255],\n",
       "        [255, 255, 255],\n",
       "        [255, 255, 255],\n",
       "        ...,\n",
       "        [255, 255, 255],\n",
       "        [255, 255, 255],\n",
       "        [255, 255, 255]],\n",
       "\n",
       "       [[255, 255, 255],\n",
       "        [255, 255, 255],\n",
       "        [255, 255, 255],\n",
       "        ...,\n",
       "        [255, 255, 255],\n",
       "        [255, 255, 255],\n",
       "        [255, 255, 255]],\n",
       "\n",
       "       [[255, 255, 255],\n",
       "        [255, 255, 255],\n",
       "        [255, 255, 255],\n",
       "        ...,\n",
       "        [255, 255, 255],\n",
       "        [255, 255, 255],\n",
       "        [255, 255, 255]]], shape=(1358, 1500, 3), dtype=uint8)"
      ]
     },
     "execution_count": 41,
     "metadata": {},
     "output_type": "execute_result"
    }
   ],
   "source": [
    "img"
   ]
  },
  {
   "cell_type": "code",
   "execution_count": 42,
   "id": "9712bd6d-f0b3-44e0-b4d0-ce3211ef6434",
   "metadata": {},
   "outputs": [
    {
     "data": {
      "text/plain": [
       "(1358, 1500, 3)"
      ]
     },
     "execution_count": 42,
     "metadata": {},
     "output_type": "execute_result"
    }
   ],
   "source": [
    "img.shape  #(y,x),(height ,width)"
   ]
  },
  {
   "cell_type": "code",
   "execution_count": 43,
   "id": "9e138422-81ce-4580-9084-fbeb3a376283",
   "metadata": {},
   "outputs": [
    {
     "data": {
      "text/plain": [
       "3"
      ]
     },
     "execution_count": 43,
     "metadata": {},
     "output_type": "execute_result"
    }
   ],
   "source": [
    "img.ndim"
   ]
  },
  {
   "cell_type": "markdown",
   "id": "d2a4ed14-ba95-42ef-8b14-bc7bb5e5e512",
   "metadata": {},
   "source": [
    "**Resize Image**"
   ]
  },
  {
   "cell_type": "code",
   "execution_count": 44,
   "id": "719214f2-9cbf-4e92-886f-a7f3b2a86224",
   "metadata": {},
   "outputs": [],
   "source": [
    "img = cv2.imread(\"image_examples\\\\karthik.jpg\",0)# Load the image directy to gray scale\n",
    "resized_img = cv2.resize(img,(675,750))\n",
    "cv2.imshow(\"PM\",resized_img)\n",
    "cv2.waitKey() == ord(\"q\")\n",
    "cv2.destroyAllWindows()"
   ]
  },
  {
   "cell_type": "code",
   "execution_count": 45,
   "id": "2eca6372-9817-45f6-ad07-89af11f3c5aa",
   "metadata": {},
   "outputs": [
    {
     "name": "stdout",
     "output_type": "stream",
     "text": [
      "q\n"
     ]
    }
   ],
   "source": [
    "print(chr(113)) ## ASCII (or Unicode) integer code."
   ]
  },
  {
   "cell_type": "code",
   "execution_count": 46,
   "id": "b6db741b-5bd8-48e0-85b0-4ec852fbf982",
   "metadata": {},
   "outputs": [],
   "source": [
    "img = cv2.imread(\"image_examples\\\\karthik.jpg\",1)\n",
    "resized_img = cv2.resize(img,(675,750))\n",
    "gray = cv2.cvtColor(resized_img,cv2.COLOR_BGR2GRAY) # Convert color to grey scale\n",
    "cv2.imshow(\"PM\",gray)\n",
    "cv2.waitKey() == ord(\"q\")\n",
    "cv2.destroyAllWindows()"
   ]
  },
  {
   "cell_type": "markdown",
   "id": "9ef9cbfc-ffab-419b-a7fd-78cc3dfe34ee",
   "metadata": {},
   "source": [
    "# Save the image \n",
    "**Simply we \"imwrite\" specifically the file name and image to be saved**"
   ]
  },
  {
   "cell_type": "code",
   "execution_count": 47,
   "id": "1ab47614-275c-412f-8a8c-4e0623a3f6d7",
   "metadata": {},
   "outputs": [
    {
     "data": {
      "text/plain": [
       "True"
      ]
     },
     "execution_count": 47,
     "metadata": {},
     "output_type": "execute_result"
    }
   ],
   "source": [
    "cv2.imwrite(\"karthikbw.jpg\",gray)"
   ]
  },
  {
   "cell_type": "markdown",
   "id": "78792d14-2a11-480d-a73f-3356e9c2f05d",
   "metadata": {},
   "source": [
    "# Computer Vision\n",
    "- Object  detection as per your requirement\n",
    "- Ex : if you want to detect mobile.humna face, with in given image "
   ]
  },
  {
   "cell_type": "markdown",
   "id": "624f39cf-9b51-474b-affc-f7467b54eaca",
   "metadata": {},
   "source": [
    "# Face Detection using HAAR Cascade Classifier "
   ]
  },
  {
   "cell_type": "code",
   "execution_count": 48,
   "id": "9c5c4fbb-a14b-4359-a57f-e3a24f8360cb",
   "metadata": {},
   "outputs": [],
   "source": [
    "# loass the features\n",
    "face_classifier = cv2.CascadeClassifier(\"C:\\\\Users\\\\gorap\\\\Data science\\\\AI\\\\Computer Vision\\\\Haarcascades\\\\haarcascade_frontalface_default.xml\")\n",
    "\n",
    "# apply for on what you want to check\n",
    "image = cv2.imread(\"image_examples\\\\Modi.jpg\",1)\n",
    "image = cv2.resize(image,(679,750))\n",
    "gray = cv2.cvtColor(image,cv2.COLOR_BGR2GRAY)\n",
    "# matching the features on the guven image\n",
    "faces = face_classifier.detectMultiScale(gray, 1.05,5)\n",
    "\n",
    "if faces is ():\n",
    "    print(\"No face found\")\n",
    "# we iterate through our faces array and draw rectangle\n",
    "# over each face in faces\n",
    "else :\n",
    "    for (x,y,l,h) in faces :\n",
    "        cv2.rectangle(image,(x,y),(x+l,y+h),(0,255,0),2)\n",
    "        \n",
    "cv2.imshow(\"Face Detected\", image)\n",
    "cv2.waitKey() == ord(\"q\")\n",
    "cv2.destroyAllWindows()"
   ]
  },
  {
   "cell_type": "code",
   "execution_count": 49,
   "id": "0181e726-2548-46da-8b42-9f2b2c82e675",
   "metadata": {},
   "outputs": [
    {
     "data": {
      "text/plain": [
       "array([[276, 128, 301, 301]], dtype=int32)"
      ]
     },
     "execution_count": 49,
     "metadata": {},
     "output_type": "execute_result"
    }
   ],
   "source": [
    "faces"
   ]
  },
  {
   "cell_type": "code",
   "execution_count": 50,
   "id": "97898f1b-3985-4cd0-8427-503c1a71056f",
   "metadata": {},
   "outputs": [],
   "source": [
    "face_classifier = cv2.CascadeClassifier(\"C:\\\\Users\\\\gorap\\\\Data science\\\\AI\\\\Computer Vision\\\\Haarcascades\\\\haarcascade_frontalface_default.xml\")\n",
    "image = cv2.imread(\"image_examples\\\\karthik.jpg\",1)\n",
    "image = cv2.resize(image,(500,600))\n",
    "faces = face_classifier.detectMultiScale(image,1.05,5)\n",
    "if faces is ():\n",
    "    print(\"Face is not detected\")\n",
    "else :\n",
    "    for (x,y,l,h) in faces:\n",
    "        cv2.rectangle(image,(x,y),(x+l,y+h),(0,255,255),2)\n",
    "cv2.imshow(\"karthik\",image)\n",
    "cv2.waitKey() == ord(\"q\")\n",
    "cv2.destroyAllWindows()\n"
   ]
  },
  {
   "cell_type": "code",
   "execution_count": 51,
   "id": "cc6e9e72-8744-4c52-b07f-927ea6633d19",
   "metadata": {},
   "outputs": [
    {
     "name": "stdout",
     "output_type": "stream",
     "text": [
      "Persons in the image :  1\n"
     ]
    }
   ],
   "source": [
    "print(\"Persons in the image : \",faces.shape[0])"
   ]
  },
  {
   "cell_type": "code",
   "execution_count": 52,
   "id": "f9c66f32-5e53-4bfc-93d3-25d365f476d3",
   "metadata": {},
   "outputs": [],
   "source": [
    "face_classifier = cv2.CascadeClassifier(\"C:\\\\Users\\\\gorap\\\\Data science\\\\AI\\\\Computer Vision\\\\Haarcascades\\\\haarcascade_frontalface_default.xml\")\n",
    "image = cv2.imread(\"image_examples\\\\manam.jpg\",1)\n",
    "image = cv2.resize(image,(500,600))\n",
    "faces = face_classifier.detectMultiScale(image,1.1,5)\n",
    "if faces is ():\n",
    "    print(\"Face is not detected\")\n",
    "else :\n",
    "    for (x,y,l,h) in faces:\n",
    "        cv2.rectangle(image,(x,y),(x+l,y+h),(0,255,255),2)\n",
    "cv2.imshow(\"karthik\",image)\n",
    "cv2.waitKey() == ord(\"q\")\n",
    "cv2.destroyAllWindows()\n"
   ]
  },
  {
   "cell_type": "code",
   "execution_count": 53,
   "id": "4de54809-aeb2-4b27-9edd-32891add86c0",
   "metadata": {},
   "outputs": [
    {
     "name": "stdout",
     "output_type": "stream",
     "text": [
      "Persons in the image :  4\n"
     ]
    }
   ],
   "source": [
    "print(\"Persons in the image : \",faces.shape[0])"
   ]
  },
  {
   "cell_type": "code",
   "execution_count": 54,
   "id": "dc252619-45b0-42e1-943f-745d1a2432a4",
   "metadata": {},
   "outputs": [],
   "source": [
    "face_classifier = cv2.CascadeClassifier(\"C:\\\\Users\\\\gorap\\\\Data science\\\\AI\\\\Computer Vision\\\\Haarcascades\\\\haarcascade_frontalface_default.xml\")\n",
    "image = cv2.imread(\"image_examples\\\\boyes.jpg\",1)\n",
    "image = cv2.resize(image,(600,400))\n",
    "faces = face_classifier.detectMultiScale(image,1.05,5)\n",
    "if faces is ():\n",
    "    print(\"Face is not detected\")\n",
    "else :\n",
    "    for (x,y,l,h) in faces:\n",
    "        cv2.rectangle(image,(x,y),(x+l,y+h),(0,255,255),2)\n",
    "cv2.imshow(\"karthik\",image)\n",
    "cv2.waitKey() == ord(\"q\")\n",
    "cv2.destroyAllWindows()\n"
   ]
  },
  {
   "cell_type": "code",
   "execution_count": 55,
   "id": "cef163d2-d901-4929-ab4f-ef0fd3e68617",
   "metadata": {},
   "outputs": [
    {
     "name": "stdout",
     "output_type": "stream",
     "text": [
      "Persons in the image :  14\n"
     ]
    }
   ],
   "source": [
    "print(\"Persons in the image : \",faces.shape[0])"
   ]
  },
  {
   "cell_type": "markdown",
   "id": "e02a12ab-39a2-458d-86ab-01aaa032a837",
   "metadata": {},
   "source": [
    "# Eye Detection using HAAR Cascade Classifier "
   ]
  },
  {
   "cell_type": "code",
   "execution_count": 56,
   "id": "0043ab39-d7a3-4b7b-b206-c6da6a7c63ad",
   "metadata": {},
   "outputs": [],
   "source": [
    "eye_classifier = cv2.CascadeClassifier(\"C:\\\\Users\\\\gorap\\\\Data science\\\\AI\\\\Computer Vision\\\\Haarcascades\\\\haarcascade_eye.xml\")\n",
    "image = cv2.imread(\"image_examples\\\\Modi.jpg\",1)\n",
    "image = cv2.resize(image,(500,500))\n",
    "eyes = eye_classifier.detectMultiScale(image,1.05,5)\n",
    "if eyes is ():\n",
    "    print(\"eyes is not detected\")\n",
    "else :\n",
    "    for (x,y,l,h) in eyes:\n",
    "        cv2.rectangle(image,(x,y),(x+l,y+h),(0,255,255),2)\n",
    "cv2.imshow(\"karthik\",image)\n",
    "cv2.waitKey() == ord(\"q\")\n",
    "cv2.destroyAllWindows()"
   ]
  },
  {
   "cell_type": "code",
   "execution_count": 57,
   "id": "0b7ecbf0-fdcf-499e-bf28-a9480fda0b1e",
   "metadata": {},
   "outputs": [],
   "source": [
    "eye_classifier = cv2.CascadeClassifier(\"C:\\\\Users\\\\gorap\\\\Data science\\\\AI\\\\Computer Vision\\\\Haarcascades\\\\haarcascade_eye.xml\")\n",
    "image = cv2.imread(\"image_examples\\\\manam.jpg\",1)\n",
    "image = cv2.resize(image,(500,500))\n",
    "eyes = eye_classifier.detectMultiScale(image,1.2,5)\n",
    "if eyes is ():\n",
    "    print(\"eyes is not detected\")\n",
    "else :\n",
    "    for (x,y,l,h) in eyes:\n",
    "        cv2.rectangle(image,(x,y),(x+l,y+h),(0,255,255),2)\n",
    "cv2.imshow(\"karthik\",image)\n",
    "cv2.waitKey() == ord(\"q\")\n",
    "cv2.destroyAllWindows()"
   ]
  },
  {
   "cell_type": "markdown",
   "id": "aa7eeecb-1c02-46e7-819e-fc0d6e6b228b",
   "metadata": {},
   "source": [
    "# Face and Eye detection using HAArCascade Classifier"
   ]
  },
  {
   "cell_type": "code",
   "execution_count": 58,
   "id": "5ebbd9eb-208d-4a20-ab29-12dc4caa8528",
   "metadata": {},
   "outputs": [],
   "source": [
    "# loass the features\n",
    "face_classifier = cv2.CascadeClassifier(\"C:\\\\Users\\\\gorap\\\\Data science\\\\AI\\\\Computer Vision\\\\Haarcascades\\\\haarcascade_frontalface_default.xml\")\n",
    "eye_classifier = cv2.CascadeClassifier(\"C:\\\\Users\\\\gorap\\\\Data science\\\\AI\\\\Computer Vision\\\\Haarcascades\\\\haarcascade_eye.xml\")\n",
    "# load the image \n",
    "image = cv2.imread(\"image_examples\\\\karthik.jpg\")\n",
    "image = cv2.resize(image,(500,500))\n",
    "gray = cv2.cvtColor(image,cv2.COLOR_BGR2GRAY)\n",
    "faces = face_classifier.detectMultiScale(image,1.05,5)\n",
    "if faces is ():\n",
    "    print(\"NO face is forund\")\n",
    "else:\n",
    "    for (x,y,l,h) in faces :\n",
    "        cv2.rectangle(image,(x,y),(x+l,y+h),(0,255,255),2)\n",
    "        face_rectangle_color = image[y:y+h,x:x+l]\n",
    "        face_rectangle_BW = gray[y:y+h,x:x+l]\n",
    "        eyes = eye_classifier.detectMultiScale(face_rectangle_color,1.2,5)\n",
    "        for (ex,ey,el,eh) in eyes:\n",
    "            cv2.rectangle(face_rectangle_color,(ex,ey),(ex+el,ey+eh),(0,255,0),2)\n",
    "cv2.imshow(\"PM\",image)\n",
    "cv2.waitKey()\n",
    "cv2.destroyAllWindows()"
   ]
  },
  {
   "cell_type": "code",
   "execution_count": 59,
   "id": "7ffe0a00-85d1-4817-a50c-afd4cb32b09b",
   "metadata": {},
   "outputs": [],
   "source": [
    "# loass the features\n",
    "face_classifier = cv2.CascadeClassifier(\"C:\\\\Users\\\\gorap\\\\Data science\\\\AI\\\\Computer Vision\\\\Haarcascades\\\\haarcascade_frontalface_default.xml\")\n",
    "eye_classifier = cv2.CascadeClassifier(\"C:\\\\Users\\\\gorap\\\\Data science\\\\AI\\\\Computer Vision\\\\Haarcascades\\\\haarcascade_eye.xml\")\n",
    "# load the image \n",
    "image = cv2.imread(\"image_examples\\\\Modi.jpg\")\n",
    "image = cv2.resize(image,(500,500))\n",
    "gray = cv2.cvtColor(image,cv2.COLOR_BGR2GRAY)\n",
    "faces = face_classifier.detectMultiScale(image,1.35,5)\n",
    "if faces is ():\n",
    "    print(\"NO face is forund\")\n",
    "else:\n",
    "    for (x,y,l,h) in faces :\n",
    "        cv2.rectangle(gray,(x,y),(x+l,y+h),(0,255,255),2)\n",
    "        face_rectangle_color = image[y:y+h,x:x+l]\n",
    "        face_rectangle_BW = gray[y:y+h,x:x+l]\n",
    "        eyes = eye_classifier.detectMultiScale(face_rectangle_BW,1.01,5)\n",
    "        for (ex,ey,el,eh) in eyes:\n",
    "            cv2.rectangle(face_rectangle_BW,(ex,ey),(ex+el,ey+eh),(0,255,0),2)\n",
    "cv2.imshow(\"PM\",gray)\n",
    "cv2.waitKey()\n",
    "cv2.destroyAllWindows()"
   ]
  },
  {
   "cell_type": "code",
   "execution_count": 60,
   "id": "352ba033-ac36-49f4-aee2-4ea3ab55ae3e",
   "metadata": {},
   "outputs": [
    {
     "data": {
      "text/plain": [
       "array([[208,  83, 210, 210]], dtype=int32)"
      ]
     },
     "execution_count": 60,
     "metadata": {},
     "output_type": "execute_result"
    }
   ],
   "source": [
    "faces"
   ]
  },
  {
   "cell_type": "markdown",
   "id": "0df0d114-3dc2-4f76-8f18-ba14473f0ba2",
   "metadata": {},
   "source": [
    "# Capturing Videos"
   ]
  },
  {
   "cell_type": "code",
   "execution_count": 61,
   "id": "76c48939-c2f8-4fe4-986d-d691e2a2cc98",
   "metadata": {},
   "outputs": [],
   "source": [
    "# doing some face recognision eith web cam\n",
    "import cv2\n",
    "video = cv2.VideoCapture(0)  #-- 0(web cam)\n",
    "while True :\n",
    "    num,frame = video.read()\n",
    "    #gray = cv2.cvtColor(frame,cv2.COLOR_BGR2GRAY)\n",
    "    cv2.imshow(\"video\",gray)\n",
    "    if cv2.waitKey(1) == ord(\"q\"):\n",
    "        break\n",
    "video.release()\n",
    "cv2.destroyAllWindows()"
   ]
  },
  {
   "cell_type": "markdown",
   "id": "f62636ba-2c1f-49ee-bf4d-aaf3046e4857",
   "metadata": {},
   "source": [
    "## Face and eye Detection using HAAR Cascade Classifier in videos "
   ]
  },
  {
   "cell_type": "code",
   "execution_count": 4,
   "id": "87f7819f-906c-4a27-888d-fb183cd86178",
   "metadata": {},
   "outputs": [],
   "source": [
    "# load the features\n",
    "face_classifier = cv2.CascadeClassifier(\"C:\\\\Users\\\\gorap\\\\Data science\\\\AI\\\\Computer Vision\\\\Haarcascades\\\\haarcascade_frontalface_default.xml\")\n",
    "eye_classifier = cv2.CascadeClassifier(\"C:\\\\Users\\\\gorap\\\\Data science\\\\AI\\\\Computer Vision\\\\Haarcascades\\\\haarcascade_eye.xml\")\n",
    "def detect (gray,frame):\n",
    "    faces = face_classifier.detectMultiScale(gray,1.05,5)\n",
    "    for (x,y,l,h) in faces :\n",
    "        cv2.rectangle(frame,(x,y),(x+l,y+h),(255,0,0),2)\n",
    "        face_rectangle_color = frame[y:y+h,x:x+l]\n",
    "        face_rectangle_BW = gray[y:y+h,x:x+l]\n",
    "        eyes = eye_classifier.detectMultiScale(face_rectangle_BW,1.05,5)\n",
    "        for (ex,ey,el,eh) in eyes:\n",
    "            cv2.rectangle(face_rectangle_color,(ex,ey),(ex+el,ey+eh),(0,255,0),2)\n",
    "\n",
    "    return frame   \n",
    "\n",
    "# doing face recognition with webcam\n",
    "video = cv2.VideoCapture(0)\n",
    "while True :\n",
    "    num ,frame = video.read()\n",
    "    gray = cv2.cvtColor(frame,cv2.COLOR_BGR2GRAY)\n",
    "    canvas = detect(gray,frame)\n",
    "    cv2.imshow(\"video\",canvas)\n",
    "    if cv2.waitKey(1) == ord(\"q\"):\n",
    "        break\n",
    "video.release()\n",
    "cv2.destroyAllWindows()"
   ]
  },
  {
   "cell_type": "code",
   "execution_count": 5,
   "id": "57291bbb-09ec-47e9-b512-b9411e6e99f6",
   "metadata": {},
   "outputs": [],
   "source": [
    "# load the features\n",
    "face_classifier = cv2.CascadeClassifier(\"C:\\\\Users\\\\gorap\\\\Data science\\\\AI\\\\Computer Vision\\\\Haarcascades\\\\haarcascade_frontalface_default.xml\")\n",
    "eye_classifier = cv2.CascadeClassifier(\"C:\\\\Users\\\\gorap\\\\Data science\\\\AI\\\\Computer Vision\\\\Haarcascades\\\\haarcascade_eye.xml\")\n",
    "def detect (gray,frame):\n",
    "    faces = face_classifier.detectMultiScale(gray,1.05,5)\n",
    "    for (x,y,l,h) in faces :\n",
    "        cv2.rectangle(frame,(x,y),(x+l,y+h),(255,0,0),2)\n",
    "        face_rectangle_color = frame[y:y+h,x:x+l]\n",
    "        face_rectangle_BW = gray[y:y+h,x:x+l]\n",
    "        eyes = eye_classifier.detectMultiScale(face_rectangle_BW,1.05,5)\n",
    "        for (ex,ey,el,eh) in eyes:\n",
    "            cv2.rectangle(face_rectangle_color,(ex,ey),(ex+el,ey+eh),(0,255,0),2)\n",
    "\n",
    "    return frame   \n",
    "\n",
    "# doing face recognition with webcam\n",
    "video = cv2.VideoCapture(0)\n",
    "while True :\n",
    "    num ,frame = video.read()\n",
    "    gray = cv2.cvtColor(frame,cv2.COLOR_BGR2GRAY)\n",
    "    canvas = detect(gray,gray)\n",
    "    cv2.imshow(\"video\",canvas)\n",
    "    if cv2.waitKey(1) == ord(\"q\"):\n",
    "        break\n",
    "video.release()\n",
    "cv2.destroyAllWindows()"
   ]
  },
  {
   "cell_type": "markdown",
   "id": "3b9019c7-5a11-4581-ab62-9530b2052935",
   "metadata": {},
   "source": [
    "## Pedistrian Detection "
   ]
  },
  {
   "cell_type": "code",
   "execution_count": 74,
   "id": "f9420e12-449d-4150-b2a1-d441fd50d05a",
   "metadata": {},
   "outputs": [],
   "source": [
    "import cv2\n",
    "import numpy as np\n",
    "import warnings\n",
    "warnings.simplefilter(\"ignore\")"
   ]
  },
  {
   "cell_type": "code",
   "execution_count": 75,
   "id": "c57ecda0-d6ec-40d1-a5b0-353ffd8189fc",
   "metadata": {},
   "outputs": [],
   "source": [
    "# load the features\n",
    "import time \n",
    "body_classifier = cv2.CascadeClassifier(\"C:\\\\Users\\\\gorap\\\\Data science\\\\AI\\\\Computer Vision\\\\Haarcascades\\\\haarcascade_fullbody.xml\")\n",
    "# \n",
    "cap = cv2.VideoCapture(\"image_examples\\\\Walking.avi\")\n",
    "# detect\n",
    "while cap.isOpened():\n",
    "    time.sleep(0.01)\n",
    "    num,frame = cap.read()\n",
    "    gray = cv2.cvtColor(frame,cv2.COLOR_BGR2GRAY)\n",
    "    bodies = body_classifier.detectMultiScale(gray,1.1,3)\n",
    "\n",
    "    for  (x,y,l,h) in bodies :\n",
    "        cv2.rectangle(frame,(x,y),(x+l,y+h),(255,0,255),2)\n",
    "        cv2.imshow(\"persons\",frame)\n",
    "    if cv2.waitKey(1) == ord(\"q\"):\n",
    "        break\n",
    "cap.release()\n",
    "cv2.destroyAllWindows()"
   ]
  },
  {
   "cell_type": "markdown",
   "id": "1b23c587-46bb-4fb4-9cdc-29c1e3a359f8",
   "metadata": {},
   "source": [
    "# Car  detection"
   ]
  },
  {
   "cell_type": "code",
   "execution_count": null,
   "id": "46e055f5-60ee-4bd4-904d-208c78a25294",
   "metadata": {},
   "outputs": [],
   "source": [
    "# load the features\n",
    "import time \n",
    "cars_classifier = cv2.CascadeClassifier(\"C:\\\\Users\\\\gorap\\\\Data science\\\\AI\\\\Computer Vision\\\\Haarcascades\\\\haarcascade_car.xml\")\n",
    "# \n",
    "cap = cv2.VideoCapture(\"image_examples\\\\cars.avi\")\n",
    "# detect\n",
    "while cap.isOpened():\n",
    "    time.sleep(0.01)\n",
    "    num,frame = cap.read()\n",
    "    gray = cv2.cvtColor(frame,cv2.COLOR_BGR2GRAY)\n",
    "    cars = cars_classifier.detectMultiScale(gray,1.01,5)\n",
    "\n",
    "    for  (x,y,l,h) in cars :\n",
    "        cv2.rectangle(frame,(x,y),(x+l,y+h),(255,0,255),2)\n",
    "        cv2.imshow(\"cars\",frame)\n",
    "    if cv2.waitKey(1) == ord(\"q\"):\n",
    "        break\n",
    "cap.release()\n",
    "cv2.destroyAllWindows()"
   ]
  },
  {
   "cell_type": "code",
   "execution_count": null,
   "id": "9a8fc42c-d38b-45bc-8991-3bed0b2826ff",
   "metadata": {},
   "outputs": [],
   "source": []
  },
  {
   "cell_type": "code",
   "execution_count": null,
   "id": "b6bce8af-b33c-490b-82a7-5962b609d1db",
   "metadata": {},
   "outputs": [],
   "source": []
  }
 ],
 "metadata": {
  "kernelspec": {
   "display_name": "Python 3 (ipykernel)",
   "language": "python",
   "name": "python3"
  },
  "language_info": {
   "codemirror_mode": {
    "name": "ipython",
    "version": 3
   },
   "file_extension": ".py",
   "mimetype": "text/x-python",
   "name": "python",
   "nbconvert_exporter": "python",
   "pygments_lexer": "ipython3",
   "version": "3.13.1"
  }
 },
 "nbformat": 4,
 "nbformat_minor": 5
}
